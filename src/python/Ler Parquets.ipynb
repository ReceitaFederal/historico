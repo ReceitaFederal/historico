{
 "cells": [
  {
   "cell_type": "code",
   "execution_count": null,
   "id": "ea5dc6cf-92ff-4dc4-b22b-6d9357da4421",
   "metadata": {},
   "outputs": [],
   "source": [
    "import pandas as pd"
   ]
  },
  {
   "cell_type": "code",
   "execution_count": null,
   "id": "87ae86b7-5116-4105-81bf-0d773a9dbb84",
   "metadata": {},
   "outputs": [],
   "source": [
    "df = pd.read_parquet('../../dados/exemplo_ficticio/uf_mensal.parquet')"
   ]
  },
  {
   "cell_type": "code",
   "execution_count": null,
   "id": "3eac2155-c231-4cf1-b733-1d700c53445a",
   "metadata": {},
   "outputs": [],
   "source": [
    "df.info()"
   ]
  }
 ],
 "metadata": {
  "kernelspec": {
   "display_name": "Python 3 (ipykernel)",
   "language": "python",
   "name": "python3"
  },
  "language_info": {
   "codemirror_mode": {
    "name": "ipython",
    "version": 3
   },
   "file_extension": ".py",
   "mimetype": "text/x-python",
   "name": "python",
   "nbconvert_exporter": "python",
   "pygments_lexer": "ipython3",
   "version": "3.13.3"
  }
 },
 "nbformat": 4,
 "nbformat_minor": 5
}
