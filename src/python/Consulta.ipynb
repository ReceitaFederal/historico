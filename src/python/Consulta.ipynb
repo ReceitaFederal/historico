{
 "cells": [
  {
   "cell_type": "code",
   "execution_count": null,
   "id": "1aed13fd-0457-433a-8cc8-6fc274117dc7",
   "metadata": {},
   "outputs": [],
   "source": [
    "import duckdb\n",
    "\n",
    "con = duckdb.connect(database=':memory:')  # ou um arquivo .duckdb se quiser\n",
    "\n",
    "df = con.execute(\"\"\"\n",
    "    SELECT * \n",
    "    FROM read_parquet('../../dados/duckdb_dados_pessoas/**/*.parquet', hive_partitioning=true)\n",
    "    WHERE uf = 'SP'\n",
    "\"\"\").fetch_df()\n",
    "\n",
    "df.head()"
   ]
  },
  {
   "cell_type": "code",
   "execution_count": null,
   "id": "48887f65-bfab-400d-a3be-5763e61d8fa4",
   "metadata": {},
   "outputs": [],
   "source": [
    "pip install duckdb"
   ]
  }
 ],
 "metadata": {
  "kernelspec": {
   "display_name": "Python 3 (ipykernel)",
   "language": "python",
   "name": "python3"
  },
  "language_info": {
   "codemirror_mode": {
    "name": "ipython",
    "version": 3
   },
   "file_extension": ".py",
   "mimetype": "text/x-python",
   "name": "python",
   "nbconvert_exporter": "python",
   "pygments_lexer": "ipython3",
   "version": "3.13.3"
  }
 },
 "nbformat": 4,
 "nbformat_minor": 5
}
